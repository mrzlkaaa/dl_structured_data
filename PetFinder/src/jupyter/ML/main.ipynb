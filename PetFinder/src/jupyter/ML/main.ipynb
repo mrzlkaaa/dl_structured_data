{
 "cells": [
  {
   "cell_type": "code",
   "execution_count": 6,
   "id": "a525ed3d-060b-451c-996c-c5fefdd2f629",
   "metadata": {},
   "outputs": [],
   "source": [
    "import requests\n",
    "import zipfile\n",
    "import io\n",
    "import pandas as pd\n",
    "import numpy as np"
   ]
  },
  {
   "cell_type": "code",
   "execution_count": 7,
   "id": "3169495d-87fd-4068-833b-1c281b64e07a",
   "metadata": {},
   "outputs": [],
   "source": [
    "zip_url = \"http://storage.googleapis.com/download.tensorflow.org/data/petfinder-mini.zip\"\n",
    "req = requests.get(zip_url)\n",
    "z = zipfile.ZipFile(io.BytesIO(req.content))\n",
    "z.extractall()"
   ]
  },
  {
   "cell_type": "code",
   "execution_count": 8,
   "id": "b1c7afed-3c2c-45cc-9b53-1820990d0892",
   "metadata": {},
   "outputs": [],
   "source": [
    "file_path = \"petfinder-mini/petfinder-mini.csv\""
   ]
  },
  {
   "cell_type": "code",
   "execution_count": 1,
   "id": "69dd9564-71b9-436f-bb61-8e67ad29f67e",
   "metadata": {},
   "outputs": [
    {
     "ename": "NameError",
     "evalue": "name 'pd' is not defined",
     "output_type": "error",
     "traceback": [
      "\u001b[0;31m---------------------------------------------------------------------------\u001b[0m",
      "\u001b[0;31mNameError\u001b[0m                                 Traceback (most recent call last)",
      "Cell \u001b[0;32mIn[1], line 1\u001b[0m\n\u001b[0;32m----> 1\u001b[0m csv \u001b[38;5;241m=\u001b[39m \u001b[43mpd\u001b[49m\u001b[38;5;241m.\u001b[39mread_csv(file_path)\n\u001b[1;32m      2\u001b[0m csv\n",
      "\u001b[0;31mNameError\u001b[0m: name 'pd' is not defined"
     ]
    }
   ],
   "source": [
    "csv = pd.read_csv(file_path)\n",
    "csv"
   ]
  },
  {
   "cell_type": "code",
   "execution_count": null,
   "id": "e7baedc7",
   "metadata": {},
   "outputs": [],
   "source": []
  }
 ],
 "metadata": {
  "kernelspec": {
   "display_name": "Python 3 (ipykernel)",
   "language": "python",
   "name": "python3"
  },
  "language_info": {
   "codemirror_mode": {
    "name": "ipython",
    "version": 3
   },
   "file_extension": ".py",
   "mimetype": "text/x-python",
   "name": "python",
   "nbconvert_exporter": "python",
   "pygments_lexer": "ipython3",
   "version": "3.10.0"
  }
 },
 "nbformat": 4,
 "nbformat_minor": 5
}
