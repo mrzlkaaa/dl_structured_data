{
 "cells": [
  {
   "cell_type": "code",
   "execution_count": 221,
   "id": "a525ed3d-060b-451c-996c-c5fefdd2f629",
   "metadata": {},
   "outputs": [],
   "source": [
    "import requests\n",
    "import zipfile\n",
    "import io\n",
    "import pandas as pd\n",
    "import numpy as np\n",
    "import seaborn as sns\n",
    "from sklearn.preprocessing import OneHotEncoder, StandardScaler"
   ]
  },
  {
   "cell_type": "code",
   "execution_count": 90,
   "id": "3169495d-87fd-4068-833b-1c281b64e07a",
   "metadata": {},
   "outputs": [],
   "source": [
    "zip_url = \"http://storage.googleapis.com/download.tensorflow.org/data/petfinder-mini.zip\"\n",
    "req = requests.get(zip_url)\n",
    "z = zipfile.ZipFile(io.BytesIO(req.content))\n",
    "z.extractall()"
   ]
  },
  {
   "cell_type": "code",
   "execution_count": 91,
   "id": "b1c7afed-3c2c-45cc-9b53-1820990d0892",
   "metadata": {},
   "outputs": [],
   "source": [
    "file_path = \"petfinder-mini/petfinder-mini.csv\""
   ]
  },
  {
   "cell_type": "code",
   "execution_count": 247,
   "id": "69dd9564-71b9-436f-bb61-8e67ad29f67e",
   "metadata": {},
   "outputs": [],
   "source": [
    "df = pd.read_csv(file_path)\n",
    "\n",
    "df = df.drop([\"Description\"], axis=1)"
   ]
  },
  {
   "cell_type": "code",
   "execution_count": 186,
   "id": "9851d54b",
   "metadata": {},
   "outputs": [
    {
     "name": "stdout",
     "output_type": "stream",
     "text": [
      "<class 'pandas.core.frame.DataFrame'>\n",
      "RangeIndex: 11537 entries, 0 to 11536\n",
      "Data columns (total 14 columns):\n",
      " #   Column         Non-Null Count  Dtype \n",
      "---  ------         --------------  ----- \n",
      " 0   Type           11537 non-null  object\n",
      " 1   Age            11537 non-null  int64 \n",
      " 2   Breed1         11537 non-null  object\n",
      " 3   Gender         11537 non-null  object\n",
      " 4   Color1         11537 non-null  object\n",
      " 5   Color2         11537 non-null  object\n",
      " 6   MaturitySize   11537 non-null  object\n",
      " 7   FurLength      11537 non-null  object\n",
      " 8   Vaccinated     11537 non-null  object\n",
      " 9   Sterilized     11537 non-null  object\n",
      " 10  Health         11537 non-null  object\n",
      " 11  Fee            11537 non-null  int64 \n",
      " 12  PhotoAmt       11537 non-null  int64 \n",
      " 13  AdoptionSpeed  11537 non-null  int64 \n",
      "dtypes: int64(4), object(10)\n",
      "memory usage: 1.2+ MB\n"
     ]
    }
   ],
   "source": [
    "df.info()"
   ]
  },
  {
   "cell_type": "code",
   "execution_count": 187,
   "id": "36e27947",
   "metadata": {},
   "outputs": [
    {
     "data": {
      "text/html": [
       "<div>\n",
       "<style scoped>\n",
       "    .dataframe tbody tr th:only-of-type {\n",
       "        vertical-align: middle;\n",
       "    }\n",
       "\n",
       "    .dataframe tbody tr th {\n",
       "        vertical-align: top;\n",
       "    }\n",
       "\n",
       "    .dataframe thead th {\n",
       "        text-align: right;\n",
       "    }\n",
       "</style>\n",
       "<table border=\"1\" class=\"dataframe\">\n",
       "  <thead>\n",
       "    <tr style=\"text-align: right;\">\n",
       "      <th></th>\n",
       "      <th>Age</th>\n",
       "      <th>Fee</th>\n",
       "      <th>PhotoAmt</th>\n",
       "      <th>AdoptionSpeed</th>\n",
       "    </tr>\n",
       "  </thead>\n",
       "  <tbody>\n",
       "    <tr>\n",
       "      <th>count</th>\n",
       "      <td>11537.000000</td>\n",
       "      <td>11537.000000</td>\n",
       "      <td>11537.000000</td>\n",
       "      <td>11537.000000</td>\n",
       "    </tr>\n",
       "    <tr>\n",
       "      <th>mean</th>\n",
       "      <td>11.743434</td>\n",
       "      <td>23.957268</td>\n",
       "      <td>3.610211</td>\n",
       "      <td>2.486522</td>\n",
       "    </tr>\n",
       "    <tr>\n",
       "      <th>std</th>\n",
       "      <td>19.324221</td>\n",
       "      <td>80.024226</td>\n",
       "      <td>3.145872</td>\n",
       "      <td>1.173275</td>\n",
       "    </tr>\n",
       "    <tr>\n",
       "      <th>min</th>\n",
       "      <td>0.000000</td>\n",
       "      <td>0.000000</td>\n",
       "      <td>0.000000</td>\n",
       "      <td>0.000000</td>\n",
       "    </tr>\n",
       "    <tr>\n",
       "      <th>25%</th>\n",
       "      <td>2.000000</td>\n",
       "      <td>0.000000</td>\n",
       "      <td>2.000000</td>\n",
       "      <td>2.000000</td>\n",
       "    </tr>\n",
       "    <tr>\n",
       "      <th>50%</th>\n",
       "      <td>4.000000</td>\n",
       "      <td>0.000000</td>\n",
       "      <td>3.000000</td>\n",
       "      <td>2.000000</td>\n",
       "    </tr>\n",
       "    <tr>\n",
       "      <th>75%</th>\n",
       "      <td>12.000000</td>\n",
       "      <td>0.000000</td>\n",
       "      <td>5.000000</td>\n",
       "      <td>4.000000</td>\n",
       "    </tr>\n",
       "    <tr>\n",
       "      <th>max</th>\n",
       "      <td>255.000000</td>\n",
       "      <td>2000.000000</td>\n",
       "      <td>30.000000</td>\n",
       "      <td>4.000000</td>\n",
       "    </tr>\n",
       "  </tbody>\n",
       "</table>\n",
       "</div>"
      ],
      "text/plain": [
       "                Age           Fee      PhotoAmt  AdoptionSpeed\n",
       "count  11537.000000  11537.000000  11537.000000   11537.000000\n",
       "mean      11.743434     23.957268      3.610211       2.486522\n",
       "std       19.324221     80.024226      3.145872       1.173275\n",
       "min        0.000000      0.000000      0.000000       0.000000\n",
       "25%        2.000000      0.000000      2.000000       2.000000\n",
       "50%        4.000000      0.000000      3.000000       2.000000\n",
       "75%       12.000000      0.000000      5.000000       4.000000\n",
       "max      255.000000   2000.000000     30.000000       4.000000"
      ]
     },
     "execution_count": 187,
     "metadata": {},
     "output_type": "execute_result"
    }
   ],
   "source": [
    "df.describe()"
   ]
  },
  {
   "cell_type": "code",
   "execution_count": 188,
   "id": "e7baedc7",
   "metadata": {},
   "outputs": [
    {
     "data": {
      "text/plain": [
       "Index(['Type', 'Age', 'Breed1', 'Gender', 'Color1', 'Color2', 'MaturitySize',\n",
       "       'FurLength', 'Vaccinated', 'Sterilized', 'Health', 'Fee', 'PhotoAmt',\n",
       "       'AdoptionSpeed'],\n",
       "      dtype='object')"
      ]
     },
     "execution_count": 188,
     "metadata": {},
     "output_type": "execute_result"
    }
   ],
   "source": [
    "columns = df.columns\n",
    "target = \"AdoptionSpeed\"\n",
    "columns"
   ]
  },
  {
   "cell_type": "code",
   "execution_count": 189,
   "id": "8926a73e",
   "metadata": {},
   "outputs": [
    {
     "data": {
      "text/html": [
       "<div>\n",
       "<style scoped>\n",
       "    .dataframe tbody tr th:only-of-type {\n",
       "        vertical-align: middle;\n",
       "    }\n",
       "\n",
       "    .dataframe tbody tr th {\n",
       "        vertical-align: top;\n",
       "    }\n",
       "\n",
       "    .dataframe thead th {\n",
       "        text-align: right;\n",
       "    }\n",
       "</style>\n",
       "<table border=\"1\" class=\"dataframe\">\n",
       "  <thead>\n",
       "    <tr style=\"text-align: right;\">\n",
       "      <th></th>\n",
       "      <th>Type</th>\n",
       "      <th>Age</th>\n",
       "      <th>Breed1</th>\n",
       "      <th>Gender</th>\n",
       "      <th>Color1</th>\n",
       "      <th>Color2</th>\n",
       "      <th>MaturitySize</th>\n",
       "      <th>FurLength</th>\n",
       "      <th>Vaccinated</th>\n",
       "      <th>Sterilized</th>\n",
       "      <th>Health</th>\n",
       "      <th>Fee</th>\n",
       "      <th>PhotoAmt</th>\n",
       "      <th>AdoptionSpeed</th>\n",
       "    </tr>\n",
       "  </thead>\n",
       "  <tbody>\n",
       "    <tr>\n",
       "      <th>0</th>\n",
       "      <td>False</td>\n",
       "      <td>False</td>\n",
       "      <td>False</td>\n",
       "      <td>False</td>\n",
       "      <td>False</td>\n",
       "      <td>False</td>\n",
       "      <td>False</td>\n",
       "      <td>False</td>\n",
       "      <td>False</td>\n",
       "      <td>False</td>\n",
       "      <td>False</td>\n",
       "      <td>False</td>\n",
       "      <td>False</td>\n",
       "      <td>False</td>\n",
       "    </tr>\n",
       "    <tr>\n",
       "      <th>1</th>\n",
       "      <td>False</td>\n",
       "      <td>False</td>\n",
       "      <td>False</td>\n",
       "      <td>False</td>\n",
       "      <td>False</td>\n",
       "      <td>False</td>\n",
       "      <td>False</td>\n",
       "      <td>False</td>\n",
       "      <td>False</td>\n",
       "      <td>False</td>\n",
       "      <td>False</td>\n",
       "      <td>False</td>\n",
       "      <td>False</td>\n",
       "      <td>False</td>\n",
       "    </tr>\n",
       "    <tr>\n",
       "      <th>2</th>\n",
       "      <td>False</td>\n",
       "      <td>False</td>\n",
       "      <td>False</td>\n",
       "      <td>False</td>\n",
       "      <td>False</td>\n",
       "      <td>False</td>\n",
       "      <td>False</td>\n",
       "      <td>False</td>\n",
       "      <td>False</td>\n",
       "      <td>False</td>\n",
       "      <td>False</td>\n",
       "      <td>False</td>\n",
       "      <td>False</td>\n",
       "      <td>False</td>\n",
       "    </tr>\n",
       "    <tr>\n",
       "      <th>3</th>\n",
       "      <td>False</td>\n",
       "      <td>False</td>\n",
       "      <td>False</td>\n",
       "      <td>False</td>\n",
       "      <td>False</td>\n",
       "      <td>False</td>\n",
       "      <td>False</td>\n",
       "      <td>False</td>\n",
       "      <td>False</td>\n",
       "      <td>False</td>\n",
       "      <td>False</td>\n",
       "      <td>False</td>\n",
       "      <td>False</td>\n",
       "      <td>False</td>\n",
       "    </tr>\n",
       "    <tr>\n",
       "      <th>4</th>\n",
       "      <td>False</td>\n",
       "      <td>False</td>\n",
       "      <td>False</td>\n",
       "      <td>False</td>\n",
       "      <td>False</td>\n",
       "      <td>False</td>\n",
       "      <td>False</td>\n",
       "      <td>False</td>\n",
       "      <td>False</td>\n",
       "      <td>False</td>\n",
       "      <td>False</td>\n",
       "      <td>False</td>\n",
       "      <td>False</td>\n",
       "      <td>False</td>\n",
       "    </tr>\n",
       "    <tr>\n",
       "      <th>...</th>\n",
       "      <td>...</td>\n",
       "      <td>...</td>\n",
       "      <td>...</td>\n",
       "      <td>...</td>\n",
       "      <td>...</td>\n",
       "      <td>...</td>\n",
       "      <td>...</td>\n",
       "      <td>...</td>\n",
       "      <td>...</td>\n",
       "      <td>...</td>\n",
       "      <td>...</td>\n",
       "      <td>...</td>\n",
       "      <td>...</td>\n",
       "      <td>...</td>\n",
       "    </tr>\n",
       "    <tr>\n",
       "      <th>11532</th>\n",
       "      <td>False</td>\n",
       "      <td>False</td>\n",
       "      <td>False</td>\n",
       "      <td>False</td>\n",
       "      <td>False</td>\n",
       "      <td>False</td>\n",
       "      <td>False</td>\n",
       "      <td>False</td>\n",
       "      <td>False</td>\n",
       "      <td>False</td>\n",
       "      <td>False</td>\n",
       "      <td>False</td>\n",
       "      <td>False</td>\n",
       "      <td>False</td>\n",
       "    </tr>\n",
       "    <tr>\n",
       "      <th>11533</th>\n",
       "      <td>False</td>\n",
       "      <td>False</td>\n",
       "      <td>False</td>\n",
       "      <td>False</td>\n",
       "      <td>False</td>\n",
       "      <td>False</td>\n",
       "      <td>False</td>\n",
       "      <td>False</td>\n",
       "      <td>False</td>\n",
       "      <td>False</td>\n",
       "      <td>False</td>\n",
       "      <td>False</td>\n",
       "      <td>False</td>\n",
       "      <td>False</td>\n",
       "    </tr>\n",
       "    <tr>\n",
       "      <th>11534</th>\n",
       "      <td>False</td>\n",
       "      <td>False</td>\n",
       "      <td>False</td>\n",
       "      <td>False</td>\n",
       "      <td>False</td>\n",
       "      <td>False</td>\n",
       "      <td>False</td>\n",
       "      <td>False</td>\n",
       "      <td>False</td>\n",
       "      <td>False</td>\n",
       "      <td>False</td>\n",
       "      <td>False</td>\n",
       "      <td>False</td>\n",
       "      <td>False</td>\n",
       "    </tr>\n",
       "    <tr>\n",
       "      <th>11535</th>\n",
       "      <td>False</td>\n",
       "      <td>False</td>\n",
       "      <td>False</td>\n",
       "      <td>False</td>\n",
       "      <td>False</td>\n",
       "      <td>False</td>\n",
       "      <td>False</td>\n",
       "      <td>False</td>\n",
       "      <td>False</td>\n",
       "      <td>False</td>\n",
       "      <td>False</td>\n",
       "      <td>False</td>\n",
       "      <td>False</td>\n",
       "      <td>False</td>\n",
       "    </tr>\n",
       "    <tr>\n",
       "      <th>11536</th>\n",
       "      <td>False</td>\n",
       "      <td>False</td>\n",
       "      <td>False</td>\n",
       "      <td>False</td>\n",
       "      <td>False</td>\n",
       "      <td>False</td>\n",
       "      <td>False</td>\n",
       "      <td>False</td>\n",
       "      <td>False</td>\n",
       "      <td>False</td>\n",
       "      <td>False</td>\n",
       "      <td>False</td>\n",
       "      <td>False</td>\n",
       "      <td>False</td>\n",
       "    </tr>\n",
       "  </tbody>\n",
       "</table>\n",
       "<p>11537 rows × 14 columns</p>\n",
       "</div>"
      ],
      "text/plain": [
       "        Type    Age  Breed1  Gender  Color1  Color2  MaturitySize  FurLength  \\\n",
       "0      False  False   False   False   False   False         False      False   \n",
       "1      False  False   False   False   False   False         False      False   \n",
       "2      False  False   False   False   False   False         False      False   \n",
       "3      False  False   False   False   False   False         False      False   \n",
       "4      False  False   False   False   False   False         False      False   \n",
       "...      ...    ...     ...     ...     ...     ...           ...        ...   \n",
       "11532  False  False   False   False   False   False         False      False   \n",
       "11533  False  False   False   False   False   False         False      False   \n",
       "11534  False  False   False   False   False   False         False      False   \n",
       "11535  False  False   False   False   False   False         False      False   \n",
       "11536  False  False   False   False   False   False         False      False   \n",
       "\n",
       "       Vaccinated  Sterilized  Health    Fee  PhotoAmt  AdoptionSpeed  \n",
       "0           False       False   False  False     False          False  \n",
       "1           False       False   False  False     False          False  \n",
       "2           False       False   False  False     False          False  \n",
       "3           False       False   False  False     False          False  \n",
       "4           False       False   False  False     False          False  \n",
       "...           ...         ...     ...    ...       ...            ...  \n",
       "11532       False       False   False  False     False          False  \n",
       "11533       False       False   False  False     False          False  \n",
       "11534       False       False   False  False     False          False  \n",
       "11535       False       False   False  False     False          False  \n",
       "11536       False       False   False  False     False          False  \n",
       "\n",
       "[11537 rows x 14 columns]"
      ]
     },
     "execution_count": 189,
     "metadata": {},
     "output_type": "execute_result"
    }
   ],
   "source": [
    "df.isnull()"
   ]
  },
  {
   "cell_type": "code",
   "execution_count": 254,
   "id": "31b764fd",
   "metadata": {},
   "outputs": [],
   "source": [
    "# Here im going to change problem from multilabel to binary\n",
    "df['AdoptionSpeed'] = np.where(df['AdoptionSpeed'] == 4, 0, 1)\n",
    "df_target = df[\"AdoptionSpeed\"].copy()"
   ]
  },
  {
   "cell_type": "code",
   "execution_count": 205,
   "id": "ac05ba82",
   "metadata": {},
   "outputs": [],
   "source": [
    "from sklearn.model_selection import train_test_split\n",
    "train, test = train_test_split(df, test_size=0.2, random_state=42)\n",
    "X_tr, X_te = train.drop(target, axis=1), test.drop(target, axis=1)\n",
    "# y_train, y_test = train[[\"AdoptionSpeed\"]].copy(), test[[\"AdoptionSpeed\"]].copy()\n",
    "y_train, y_test = train[\"AdoptionSpeed\"].copy(), test[\"AdoptionSpeed\"].copy()"
   ]
  },
  {
   "cell_type": "code",
   "execution_count": 206,
   "id": "5bf107a0",
   "metadata": {},
   "outputs": [
    {
     "name": "stdout",
     "output_type": "stream",
     "text": [
      "9229 2308\n"
     ]
    }
   ],
   "source": [
    "print(len(X_tr), len(X_te))"
   ]
  },
  {
   "cell_type": "code",
   "execution_count": 207,
   "id": "0bd6711e",
   "metadata": {},
   "outputs": [
    {
     "data": {
      "text/plain": [
       "['Type',\n",
       " 'Vaccinated',\n",
       " 'Color1',\n",
       " 'Breed1',\n",
       " 'MaturitySize',\n",
       " 'FurLength',\n",
       " 'Gender',\n",
       " 'Color2',\n",
       " 'Health',\n",
       " 'Sterilized']"
      ]
     },
     "execution_count": 207,
     "metadata": {},
     "output_type": "execute_result"
    }
   ],
   "source": [
    "numerical_cols = [\"Age\", \"Fee\", \"PhotoAmt\"] #* Age also can binned as categorical data\n",
    "categorical_cols = list(set(columns).difference(set(numerical_cols)))\n",
    "ind = categorical_cols.index(target)\n",
    "categorical_cols.pop(ind)\n",
    "categorical_cols"
   ]
  },
  {
   "cell_type": "code",
   "execution_count": 208,
   "id": "55cd9e8d",
   "metadata": {},
   "outputs": [],
   "source": [
    "from sklearn.pipeline import Pipeline\n",
    "from sklearn.compose import ColumnTransformer"
   ]
  },
  {
   "cell_type": "code",
   "execution_count": 209,
   "id": "20cb9c23",
   "metadata": {},
   "outputs": [],
   "source": [
    "oh_encoder = OneHotEncoder()\n",
    "scalar_encoder = StandardScaler()"
   ]
  },
  {
   "cell_type": "code",
   "execution_count": 210,
   "id": "9b4e84a8",
   "metadata": {},
   "outputs": [],
   "source": [
    "\n",
    "def make_transformer(cols, tpe=\"cat\"):\n",
    "    if tpe == \"cat\":\n",
    "        encoder = oh_encoder\n",
    "    else:\n",
    "        encoder = scalar_encoder\n",
    "    transformer = (tpe, encoder, cols)\n",
    "    return transformer\n"
   ]
  },
  {
   "cell_type": "code",
   "execution_count": 211,
   "id": "ccc859a9",
   "metadata": {},
   "outputs": [],
   "source": [
    "transformers = []\n",
    "trs_num = make_transformer(numerical_cols, tpe=\"num\")\n",
    "trs_cat = make_transformer(categorical_cols, tpe=\"cat\")\n",
    "transformers.append(trs_num)\n",
    "transformers.append(trs_cat)"
   ]
  },
  {
   "cell_type": "code",
   "execution_count": 212,
   "id": "588036e1",
   "metadata": {},
   "outputs": [
    {
     "data": {
      "text/html": [
       "<div>\n",
       "<style scoped>\n",
       "    .dataframe tbody tr th:only-of-type {\n",
       "        vertical-align: middle;\n",
       "    }\n",
       "\n",
       "    .dataframe tbody tr th {\n",
       "        vertical-align: top;\n",
       "    }\n",
       "\n",
       "    .dataframe thead th {\n",
       "        text-align: right;\n",
       "    }\n",
       "</style>\n",
       "<table border=\"1\" class=\"dataframe\">\n",
       "  <thead>\n",
       "    <tr style=\"text-align: right;\">\n",
       "      <th></th>\n",
       "      <th>Type</th>\n",
       "      <th>Age</th>\n",
       "      <th>Breed1</th>\n",
       "      <th>Gender</th>\n",
       "      <th>Color1</th>\n",
       "      <th>Color2</th>\n",
       "      <th>MaturitySize</th>\n",
       "      <th>FurLength</th>\n",
       "      <th>Vaccinated</th>\n",
       "      <th>Sterilized</th>\n",
       "      <th>Health</th>\n",
       "      <th>Fee</th>\n",
       "      <th>PhotoAmt</th>\n",
       "    </tr>\n",
       "  </thead>\n",
       "  <tbody>\n",
       "    <tr>\n",
       "      <th>0</th>\n",
       "      <td>Cat</td>\n",
       "      <td>3</td>\n",
       "      <td>Tabby</td>\n",
       "      <td>Male</td>\n",
       "      <td>Black</td>\n",
       "      <td>White</td>\n",
       "      <td>Small</td>\n",
       "      <td>Short</td>\n",
       "      <td>No</td>\n",
       "      <td>No</td>\n",
       "      <td>Healthy</td>\n",
       "      <td>100</td>\n",
       "      <td>1</td>\n",
       "    </tr>\n",
       "    <tr>\n",
       "      <th>1</th>\n",
       "      <td>Cat</td>\n",
       "      <td>1</td>\n",
       "      <td>Domestic Medium Hair</td>\n",
       "      <td>Male</td>\n",
       "      <td>Black</td>\n",
       "      <td>Brown</td>\n",
       "      <td>Medium</td>\n",
       "      <td>Medium</td>\n",
       "      <td>Not Sure</td>\n",
       "      <td>Not Sure</td>\n",
       "      <td>Healthy</td>\n",
       "      <td>0</td>\n",
       "      <td>2</td>\n",
       "    </tr>\n",
       "    <tr>\n",
       "      <th>2</th>\n",
       "      <td>Dog</td>\n",
       "      <td>1</td>\n",
       "      <td>Mixed Breed</td>\n",
       "      <td>Male</td>\n",
       "      <td>Brown</td>\n",
       "      <td>White</td>\n",
       "      <td>Medium</td>\n",
       "      <td>Medium</td>\n",
       "      <td>Yes</td>\n",
       "      <td>No</td>\n",
       "      <td>Healthy</td>\n",
       "      <td>0</td>\n",
       "      <td>7</td>\n",
       "    </tr>\n",
       "    <tr>\n",
       "      <th>3</th>\n",
       "      <td>Dog</td>\n",
       "      <td>4</td>\n",
       "      <td>Mixed Breed</td>\n",
       "      <td>Female</td>\n",
       "      <td>Black</td>\n",
       "      <td>Brown</td>\n",
       "      <td>Medium</td>\n",
       "      <td>Short</td>\n",
       "      <td>Yes</td>\n",
       "      <td>No</td>\n",
       "      <td>Healthy</td>\n",
       "      <td>150</td>\n",
       "      <td>8</td>\n",
       "    </tr>\n",
       "    <tr>\n",
       "      <th>4</th>\n",
       "      <td>Dog</td>\n",
       "      <td>1</td>\n",
       "      <td>Mixed Breed</td>\n",
       "      <td>Male</td>\n",
       "      <td>Black</td>\n",
       "      <td>No Color</td>\n",
       "      <td>Medium</td>\n",
       "      <td>Short</td>\n",
       "      <td>No</td>\n",
       "      <td>No</td>\n",
       "      <td>Healthy</td>\n",
       "      <td>0</td>\n",
       "      <td>3</td>\n",
       "    </tr>\n",
       "    <tr>\n",
       "      <th>...</th>\n",
       "      <td>...</td>\n",
       "      <td>...</td>\n",
       "      <td>...</td>\n",
       "      <td>...</td>\n",
       "      <td>...</td>\n",
       "      <td>...</td>\n",
       "      <td>...</td>\n",
       "      <td>...</td>\n",
       "      <td>...</td>\n",
       "      <td>...</td>\n",
       "      <td>...</td>\n",
       "      <td>...</td>\n",
       "      <td>...</td>\n",
       "    </tr>\n",
       "    <tr>\n",
       "      <th>11532</th>\n",
       "      <td>Dog</td>\n",
       "      <td>24</td>\n",
       "      <td>Poodle</td>\n",
       "      <td>Male</td>\n",
       "      <td>Brown</td>\n",
       "      <td>Golden</td>\n",
       "      <td>Medium</td>\n",
       "      <td>Medium</td>\n",
       "      <td>Not Sure</td>\n",
       "      <td>No</td>\n",
       "      <td>Healthy</td>\n",
       "      <td>0</td>\n",
       "      <td>0</td>\n",
       "    </tr>\n",
       "    <tr>\n",
       "      <th>11533</th>\n",
       "      <td>Cat</td>\n",
       "      <td>1</td>\n",
       "      <td>Domestic Short Hair</td>\n",
       "      <td>Female</td>\n",
       "      <td>Cream</td>\n",
       "      <td>Gray</td>\n",
       "      <td>Medium</td>\n",
       "      <td>Short</td>\n",
       "      <td>No</td>\n",
       "      <td>No</td>\n",
       "      <td>Healthy</td>\n",
       "      <td>0</td>\n",
       "      <td>1</td>\n",
       "    </tr>\n",
       "    <tr>\n",
       "      <th>11534</th>\n",
       "      <td>Dog</td>\n",
       "      <td>6</td>\n",
       "      <td>Schnauzer</td>\n",
       "      <td>Female</td>\n",
       "      <td>Black</td>\n",
       "      <td>White</td>\n",
       "      <td>Small</td>\n",
       "      <td>Long</td>\n",
       "      <td>Yes</td>\n",
       "      <td>No</td>\n",
       "      <td>Healthy</td>\n",
       "      <td>0</td>\n",
       "      <td>1</td>\n",
       "    </tr>\n",
       "    <tr>\n",
       "      <th>11535</th>\n",
       "      <td>Cat</td>\n",
       "      <td>9</td>\n",
       "      <td>Domestic Short Hair</td>\n",
       "      <td>Female</td>\n",
       "      <td>Yellow</td>\n",
       "      <td>White</td>\n",
       "      <td>Small</td>\n",
       "      <td>Short</td>\n",
       "      <td>Yes</td>\n",
       "      <td>Yes</td>\n",
       "      <td>Healthy</td>\n",
       "      <td>0</td>\n",
       "      <td>3</td>\n",
       "    </tr>\n",
       "    <tr>\n",
       "      <th>11536</th>\n",
       "      <td>Dog</td>\n",
       "      <td>1</td>\n",
       "      <td>Mixed Breed</td>\n",
       "      <td>Male</td>\n",
       "      <td>Brown</td>\n",
       "      <td>No Color</td>\n",
       "      <td>Medium</td>\n",
       "      <td>Short</td>\n",
       "      <td>No</td>\n",
       "      <td>No</td>\n",
       "      <td>Healthy</td>\n",
       "      <td>0</td>\n",
       "      <td>1</td>\n",
       "    </tr>\n",
       "  </tbody>\n",
       "</table>\n",
       "<p>11537 rows × 13 columns</p>\n",
       "</div>"
      ],
      "text/plain": [
       "      Type  Age                Breed1  Gender  Color1    Color2 MaturitySize  \\\n",
       "0      Cat    3                 Tabby    Male   Black     White        Small   \n",
       "1      Cat    1  Domestic Medium Hair    Male   Black     Brown       Medium   \n",
       "2      Dog    1           Mixed Breed    Male   Brown     White       Medium   \n",
       "3      Dog    4           Mixed Breed  Female   Black     Brown       Medium   \n",
       "4      Dog    1           Mixed Breed    Male   Black  No Color       Medium   \n",
       "...    ...  ...                   ...     ...     ...       ...          ...   \n",
       "11532  Dog   24                Poodle    Male   Brown    Golden       Medium   \n",
       "11533  Cat    1   Domestic Short Hair  Female   Cream      Gray       Medium   \n",
       "11534  Dog    6             Schnauzer  Female   Black     White        Small   \n",
       "11535  Cat    9   Domestic Short Hair  Female  Yellow     White        Small   \n",
       "11536  Dog    1           Mixed Breed    Male   Brown  No Color       Medium   \n",
       "\n",
       "      FurLength Vaccinated Sterilized   Health  Fee  PhotoAmt  \n",
       "0         Short         No         No  Healthy  100         1  \n",
       "1        Medium   Not Sure   Not Sure  Healthy    0         2  \n",
       "2        Medium        Yes         No  Healthy    0         7  \n",
       "3         Short        Yes         No  Healthy  150         8  \n",
       "4         Short         No         No  Healthy    0         3  \n",
       "...         ...        ...        ...      ...  ...       ...  \n",
       "11532    Medium   Not Sure         No  Healthy    0         0  \n",
       "11533     Short         No         No  Healthy    0         1  \n",
       "11534      Long        Yes         No  Healthy    0         1  \n",
       "11535     Short        Yes        Yes  Healthy    0         3  \n",
       "11536     Short         No         No  Healthy    0         1  \n",
       "\n",
       "[11537 rows x 13 columns]"
      ]
     },
     "execution_count": 212,
     "metadata": {},
     "output_type": "execute_result"
    }
   ],
   "source": [
    "# full_pipeline = ColumnTransformer(transformers)\n",
    "# X_train = full_pipeline.fit_transform(X_tr)\n",
    "# X_test = full_pipeline.fit_transform(X_te)\n",
    "df_feature= df.drop(target, axis=1)\n",
    "df_feature"
   ]
  },
  {
   "cell_type": "code",
   "execution_count": 233,
   "id": "5bca394f",
   "metadata": {},
   "outputs": [
    {
     "name": "stderr",
     "output_type": "stream",
     "text": [
      "/tmp/ipykernel_780/866176867.py:1: FutureWarning: The default value of numeric_only in DataFrame.corr is deprecated. In a future version, it will default to False. Select only valid columns or specify the value of numeric_only to silence this warning.\n",
      "  sns.heatmap(df_feature.corr(), annot=True)\n"
     ]
    },
    {
     "data": {
      "text/plain": [
       "<AxesSubplot: >"
      ]
     },
     "execution_count": 233,
     "metadata": {},
     "output_type": "execute_result"
    },
    {
     "data": {
      "image/png": "[encoded data removed]",
      "text/plain": [
       "<Figure size 640x480 with 2 Axes>"
      ]
     },
     "metadata": {},
     "output_type": "display_data"
    }
   ],
   "source": [
    "sns.heatmap(df_feature.corr(), annot=True)"
   ]
  },
  {
   "cell_type": "code",
   "execution_count": 213,
   "id": "b27eec45",
   "metadata": {},
   "outputs": [
    {
     "data": {
      "text/plain": [
       "<11537x202 sparse matrix of type '<class 'numpy.float64'>'\n",
       "\twith 149981 stored elements in Compressed Sparse Row format>"
      ]
     },
     "execution_count": 213,
     "metadata": {},
     "output_type": "execute_result"
    }
   ],
   "source": [
    "# test_df = df.copy()\n",
    "oh_encoder_t = OneHotEncoder()\n",
    "scalar_encoder_t = StandardScaler()\n",
    "encoded_df = full_pipeline.fit_transform(df_feature)\n",
    "encoded_df\n"
   ]
  },
  {
   "cell_type": "code",
   "execution_count": 244,
   "id": "5c509f5d",
   "metadata": {},
   "outputs": [
    {
     "data": {
      "text/plain": [
       "array([[-0.45247947,  0.95028758, -0.8297617 , ...,  1.        ,\n",
       "         0.        ,  0.        ],\n",
       "       [-0.55598102, -0.29938817, -0.51187099, ...,  0.        ,\n",
       "         1.        ,  0.        ],\n",
       "       [-0.55598102, -0.29938817,  1.07758254, ...,  1.        ,\n",
       "         0.        ,  0.        ],\n",
       "       ...,\n",
       "       [-0.29722716, -0.29938817, -0.8297617 , ...,  1.        ,\n",
       "         0.        ,  0.        ],\n",
       "       [-0.14197484, -0.29938817, -0.19398029, ...,  0.        ,\n",
       "         0.        ,  1.        ],\n",
       "       [-0.55598102, -0.29938817, -0.8297617 , ...,  1.        ,\n",
       "         0.        ,  0.        ]])"
      ]
     },
     "execution_count": 244,
     "metadata": {},
     "output_type": "execute_result"
    }
   ],
   "source": [
    "encoded_df.toarray()"
   ]
  },
  {
   "cell_type": "code",
   "execution_count": 214,
   "id": "00706718",
   "metadata": {},
   "outputs": [
    {
     "name": "stdout",
     "output_type": "stream",
     "text": [
      "(9229, 202) (2308, 202)\n"
     ]
    }
   ],
   "source": [
    "X_train, X_test = train_test_split(encoded_df, test_size=0.2, random_state=42)\n",
    "print(X_train.shape, X_test.shape)"
   ]
  },
  {
   "cell_type": "code",
   "execution_count": 215,
   "id": "f80dc4f2",
   "metadata": {},
   "outputs": [
    {
     "name": "stdout",
     "output_type": "stream",
     "text": [
      "(9229,) (2308,)\n"
     ]
    }
   ],
   "source": [
    "print(y_train.shape, y_test.shape)"
   ]
  },
  {
   "cell_type": "code",
   "execution_count": 216,
   "id": "a0c5cd95",
   "metadata": {},
   "outputs": [],
   "source": [
    "#* the same way as use of column transformer\n",
    "# cat_df = oh_encoder.fit_transform(X_train.loc[:,categorical_cols])"
   ]
  },
  {
   "cell_type": "code",
   "execution_count": 277,
   "id": "5731774f",
   "metadata": {},
   "outputs": [
    {
     "name": "stdout",
     "output_type": "stream",
     "text": [
      "accuracy of KNeighborsClassifier() on train data 0.8069129916567342\n",
      "accuracy of LogisticRegression() on train data 0.7572868133058837\n"
     ]
    },
    {
     "name": "stderr",
     "output_type": "stream",
     "text": [
      "/home/mrzlka/.pyenv/versions/3.10.0/envs/dl-3.10.0/lib/python3.10/site-packages/sklearn/linear_model/_logistic.py:458: ConvergenceWarning: lbfgs failed to converge (status=1):\n",
      "STOP: TOTAL NO. of ITERATIONS REACHED LIMIT.\n",
      "\n",
      "Increase the number of iterations (max_iter) or scale the data as shown in:\n",
      "    https://scikit-learn.org/stable/modules/preprocessing.html\n",
      "Please also refer to the documentation for alternative solver options:\n",
      "    https://scikit-learn.org/stable/modules/linear_model.html#logistic-regression\n",
      "  n_iter_i = _check_optimize_result(\n"
     ]
    },
    {
     "name": "stdout",
     "output_type": "stream",
     "text": [
      "accuracy of DecisionTreeClassifier() on train data 0.9789793043666702\n",
      "accuracy of RandomForestClassifier() on train data 0.9789793043666702\n",
      "accuracy of SVC(C=0.025, kernel='linear') on train data 0.7359410553689457\n",
      "accuracy of SVC(C=1, gamma=2) on train data 0.9245855455628995\n",
      "[KNeighborsClassifier(), LogisticRegression(), DecisionTreeClassifier(), RandomForestClassifier(), SVC(C=0.025, kernel='linear'), SVC(C=1, gamma=2)]\n",
      "accuracy of KNeighborsClassifier() on test data 0.7118717504332756\n",
      "accuracy of LogisticRegression() on test data 0.74263431542461\n",
      "accuracy of DecisionTreeClassifier() on test data 0.6910745233968805\n",
      "accuracy of RandomForestClassifier() on test data 0.7318024263431543\n",
      "accuracy of SVC(C=0.025, kernel='linear') on test data 0.7214038128249567\n",
      "accuracy of SVC(C=1, gamma=2) on test data 0.7227036395147314\n"
     ]
    }
   ],
   "source": [
    "from sklearn.neighbors import KNeighborsClassifier\n",
    "from sklearn.linear_model import LogisticRegression\n",
    "from sklearn.tree import DecisionTreeClassifier\n",
    "from sklearn.ensemble import RandomForestClassifier\n",
    "from sklearn.svm import SVC\n",
    "# cls = LogisticRegression(random_state=0)\n",
    "clss = [\n",
    "    KNeighborsClassifier(),\n",
    "    LogisticRegression(),\n",
    "    DecisionTreeClassifier(),\n",
    "    RandomForestClassifier(),\n",
    "    SVC(kernel=\"linear\", C=0.025),\n",
    "    SVC(gamma=2, C=1),\n",
    "    \n",
    "]\n",
    "clss_trained = []\n",
    "for cls in clss:\n",
    "    cls.fit(X_train, y_train)\n",
    "    print(f\"accuracy of {cls} on train data\", cls.score(X_train, y_train))\n",
    "    clss_trained.append(cls)\n",
    "print(clss_trained)\n",
    "for cls in clss_trained:\n",
    "    print(f\"accuracy of {cls} on test data\", cls.score(X_test, y_test))"
   ]
  },
  {
   "cell_type": "code",
   "execution_count": 280,
   "id": "39f47e41",
   "metadata": {},
   "outputs": [
    {
     "name": "stdout",
     "output_type": "stream",
     "text": [
      "KNeighborsClassifier() [0.35248296 0.81471162]\n",
      "LogisticRegression() [0.30930233 0.84185304]\n",
      "DecisionTreeClassifier() [0.41901692 0.78637037]\n",
      "RandomForestClassifier() [0.37934459 0.82682183]\n",
      "SVC(C=0.025, kernel='linear') [0.         0.83815756]\n",
      "SVC(C=1, gamma=2) [0.14209115 0.83462532]\n"
     ]
    }
   ],
   "source": [
    "from sklearn.metrics import f1_score\n",
    "#* calculating of f1 error\n",
    "for i in clss_trained:\n",
    "    print(i, f1_score(y_test, i.predict(X_test),average=None))"
   ]
  },
  {
   "cell_type": "code",
   "execution_count": 282,
   "id": "b8583191",
   "metadata": {
    "scrolled": false
   },
   "outputs": [
    {
     "data": {
      "text/plain": [
       "<AxesSubplot: >"
      ]
     },
     "execution_count": 282,
     "metadata": {},
     "output_type": "execute_result"
    },
    {
     "data": {
      "image/png": "[encoded data removed]",
      "text/plain": [
       "<Figure size 640x480 with 2 Axes>"
      ]
     },
     "metadata": {},
     "output_type": "display_data"
    }
   ],
   "source": [
    "from sklearn.metrics import confusion_matrix\n",
    "\n",
    "sns.heatmap(confusion_matrix(y_test, clss_trained[0].predict(X_test)), annot=True, fmt='.0f')"
   ]
  },
  {
   "cell_type": "code",
   "execution_count": 262,
   "id": "8bb02c78",
   "metadata": {},
   "outputs": [
    {
     "data": {
      "text/plain": [
       "<AxesSubplot: >"
      ]
     },
     "execution_count": 262,
     "metadata": {},
     "output_type": "execute_result"
    },
    {
     "data": {
      "image/png": "[encoded data removed]",
      "text/plain": [
       "<Figure size 640x480 with 2 Axes>"
      ]
     },
     "metadata": {},
     "output_type": "display_data"
    }
   ],
   "source": [
    "sns.heatmap(confusion_matrix(y_test, clss_trained[-1].predict(X_test)), annot=True, fmt=\".0f\")"
   ]
  },
  {
   "cell_type": "code",
   "execution_count": 230,
   "id": "3ab28eb4",
   "metadata": {},
   "outputs": [
    {
     "data": {
      "image/png": "[encoded data removed]",
      "text/plain": [
       "<Figure size 640x480 with 1 Axes>"
      ]
     },
     "metadata": {},
     "output_type": "display_data"
    }
   ],
   "source": [
    "ax = sns.countplot(x=df[target],palette='ch:start=.2,rot=-.3')"
   ]
  },
  {
   "cell_type": "code",
   "execution_count": 255,
   "id": "f09c299b",
   "metadata": {},
   "outputs": [],
   "source": [
    "#* try random undersampling\n",
    "from imblearn.under_sampling import RandomUnderSampler\n",
    "rand_under = RandomUnderSampler()\n",
    "encoded_df_res, df_target_res = rand_under.fit_resample(encoded_df, df_target)"
   ]
  },
  {
   "cell_type": "code",
   "execution_count": 256,
   "id": "6ed4292e",
   "metadata": {},
   "outputs": [
    {
     "data": {
      "image/png": "[encoded data removed]",
      "text/plain": [
       "<Figure size 640x480 with 1 Axes>"
      ]
     },
     "metadata": {},
     "output_type": "display_data"
    }
   ],
   "source": [
    "ax = sns.countplot(x=df_target_res)"
   ]
  },
  {
   "cell_type": "code",
   "execution_count": 258,
   "id": "7a764001",
   "metadata": {},
   "outputs": [],
   "source": [
    "under_X_train, under_X_test = train_test_split(encoded_df_res, test_size=0.2, random_state=42)\n",
    "under_y_train, under_y_test = train_test_split(df_target_res, test_size=0.2, random_state=42)"
   ]
  },
  {
   "cell_type": "code",
   "execution_count": 278,
   "id": "52b47a57",
   "metadata": {},
   "outputs": [
    {
     "name": "stdout",
     "output_type": "stream",
     "text": [
      "accuracy of KNeighborsClassifier() on train data 0.6747159090909091\n",
      "accuracy of LogisticRegression() on train data 0.5854301948051948\n"
     ]
    },
    {
     "name": "stderr",
     "output_type": "stream",
     "text": [
      "/home/mrzlka/.pyenv/versions/3.10.0/envs/dl-3.10.0/lib/python3.10/site-packages/sklearn/linear_model/_logistic.py:458: ConvergenceWarning: lbfgs failed to converge (status=1):\n",
      "STOP: TOTAL NO. of ITERATIONS REACHED LIMIT.\n",
      "\n",
      "Increase the number of iterations (max_iter) or scale the data as shown in:\n",
      "    https://scikit-learn.org/stable/modules/preprocessing.html\n",
      "Please also refer to the documentation for alternative solver options:\n",
      "    https://scikit-learn.org/stable/modules/linear_model.html#logistic-regression\n",
      "  n_iter_i = _check_optimize_result(\n"
     ]
    },
    {
     "name": "stdout",
     "output_type": "stream",
     "text": [
      "accuracy of DecisionTreeClassifier() on train data 0.9040178571428571\n",
      "accuracy of RandomForestClassifier() on train data 0.8928571428571429\n",
      "accuracy of SVC(C=0.025, kernel='linear') on train data 0.5032467532467533\n",
      "accuracy of SVC(C=1, gamma=2) on train data 0.796672077922078\n",
      "[KNeighborsClassifier(), LogisticRegression(), DecisionTreeClassifier(), RandomForestClassifier(), SVC(C=0.025, kernel='linear'), SVC(C=1, gamma=2)]\n",
      "accuracy of KNeighborsClassifier() on test data 0.6566558441558441\n",
      "accuracy of LogisticRegression() on test data 0.5787337662337663\n",
      "accuracy of DecisionTreeClassifier() on test data 0.8814935064935064\n",
      "accuracy of RandomForestClassifier() on test data 0.8790584415584416\n",
      "accuracy of SVC(C=0.025, kernel='linear') on test data 0.487012987012987\n",
      "accuracy of SVC(C=1, gamma=2) on test data 0.7816558441558441\n"
     ]
    }
   ],
   "source": [
    "\n",
    "clss_trained = []\n",
    "for cls in clss:\n",
    "    cls.fit(X_train, y_train)\n",
    "    print(f\"accuracy of {cls} on train data\", cls.score(under_X_train, under_y_train))\n",
    "    clss_trained.append(cls)\n",
    "print(clss_trained)\n",
    "for cls in clss_trained:\n",
    "    print(f\"accuracy of {cls} on test data\", cls.score(under_X_test, under_y_test))"
   ]
  },
  {
   "cell_type": "code",
   "execution_count": 271,
   "id": "f7902dd6",
   "metadata": {},
   "outputs": [
    {
     "data": {
      "text/plain": [
       "<AxesSubplot: >"
      ]
     },
     "execution_count": 271,
     "metadata": {},
     "output_type": "execute_result"
    },
    {
     "data": {
      "image/png": "[encoded data removed]",
      "text/plain": [
       "<Figure size 640x480 with 2 Axes>"
      ]
     },
     "metadata": {},
     "output_type": "display_data"
    }
   ],
   "source": [
    "sns.heatmap(confusion_matrix(under_y_test, clss_trained[-1].predict(under_X_test)), annot=True, fmt=\".0f\")"
   ]
  },
  {
   "cell_type": "code",
   "execution_count": 279,
   "id": "ed2dfde7",
   "metadata": {},
   "outputs": [
    {
     "name": "stdout",
     "output_type": "stream",
     "text": [
      "KNeighborsClassifier() [0.56074766 0.71818787]\n",
      "LogisticRegression() [0.35205993 0.68791341]\n",
      "DecisionTreeClassifier() [0.87731092 0.88540031]\n",
      "RandomForestClassifier() [0.8700959  0.88686409]\n",
      "SVC(C=0.025, kernel='linear') [0.         0.65502183]\n",
      "SVC(C=1, gamma=2) [0.73126873 0.81613124]\n"
     ]
    }
   ],
   "source": [
    "for i in clss_trained:\n",
    "    print(i, f1_score(under_y_test, i.predict(under_X_test),average=None))"
   ]
  },
  {
   "cell_type": "code",
   "execution_count": null,
   "id": "ee7d4a8b",
   "metadata": {},
   "outputs": [],
   "source": []
  }
 ],
 "metadata": {
  "kernelspec": {
   "display_name": "Python 3 (ipykernel)",
   "language": "python",
   "name": "python3"
  },
  "language_info": {
   "codemirror_mode": {
    "name": "ipython",
    "version": 3
   },
   "file_extension": ".py",
   "mimetype": "text/x-python",
   "name": "python",
   "nbconvert_exporter": "python",
   "pygments_lexer": "ipython3",
   "version": "3.10.0"
  }
 },
 "nbformat": 4,
 "nbformat_minor": 5
}
